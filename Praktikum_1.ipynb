{
  "nbformat": 4,
  "nbformat_minor": 0,
  "metadata": {
    "colab": {
      "provenance": [],
      "authorship_tag": "ABX9TyPiI9llJYHFrtubvcSnSRPW",
      "include_colab_link": true
    },
    "kernelspec": {
      "name": "python3",
      "display_name": "Python 3"
    },
    "language_info": {
      "name": "python"
    }
  },
  "cells": [
    {
      "cell_type": "markdown",
      "metadata": {
        "id": "view-in-github",
        "colab_type": "text"
      },
      "source": [
        "<a href=\"https://colab.research.google.com/github/alvredo5/data_mining/blob/main/Praktikum_1.ipynb\" target=\"_parent\"><img src=\"https://colab.research.google.com/assets/colab-badge.svg\" alt=\"Open In Colab\"/></a>"
      ]
    },
    {
      "cell_type": "code",
      "execution_count": 1,
      "metadata": {
        "id": "Azz8h0pjhDnq"
      },
      "outputs": [],
      "source": [
        "import numpy as np\n",
        "from sklearn import preprocessing"
      ]
    },
    {
      "cell_type": "code",
      "source": [
        "input_data = np.array ([[5.1, -2.9, 3.3],\n",
        "                        [-1.2, 7.8,-6.1],\n",
        "                        [3.9, 0.4, 2.1],\n",
        "                        [7.3, -9.9, -4.5]])"
      ],
      "metadata": {
        "id": "TmGVrM5bhYWi"
      },
      "execution_count": 2,
      "outputs": []
    },
    {
      "cell_type": "code",
      "source": [
        "# Binarized data (Binarized Data--> mengubah nilainya menjadi 0 dan 1)\n",
        "data_binarized = preprocessing .Binarizer(threshold=2.1).transform(input_data)\n",
        "print(\"\\nBinarized data; \\n\", data_binarized)"
      ],
      "metadata": {
        "id": "fkZvyfzgh6p4",
        "colab": {
          "base_uri": "https://localhost:8080/"
        },
        "outputId": "a4cc223d-8aac-43d6-9c7c-fbbc56de414e"
      },
      "execution_count": 6,
      "outputs": [
        {
          "output_type": "stream",
          "name": "stdout",
          "text": [
            "\n",
            "Binarized data; \n",
            " [[1. 0. 1.]\n",
            " [0. 1. 0.]\n",
            " [1. 0. 0.]\n",
            " [1. 0. 0.]]\n"
          ]
        }
      ]
    },
    {
      "cell_type": "code",
      "source": [
        "# Print mean and standard deviation (cetak rata-rata dan standar devisiasi)\n",
        "print(\"\\nBEFORE:\")\n",
        "print(\"Mean =\", input_data.mean(axis=0))\n",
        "print(\"Std deviation =\", input_data.std(axis=0))"
      ],
      "metadata": {
        "id": "LPIVfBAuiyIg",
        "colab": {
          "base_uri": "https://localhost:8080/"
        },
        "outputId": "1ab9b4cc-e023-49bb-bf3c-5ed02ae1a6ae"
      },
      "execution_count": 7,
      "outputs": [
        {
          "output_type": "stream",
          "name": "stdout",
          "text": [
            "\n",
            "BEFORE:\n",
            "Mean = [ 3.775 -1.15  -1.3  ]\n",
            "Std deviation = [3.12039661 6.36651396 4.0620192 ]\n"
          ]
        }
      ]
    },
    {
      "cell_type": "code",
      "source": [
        "# Menghapus rata-rata\n",
        "data_scaled = preprocessing.scale(input_data)\n",
        "print(\"\\nAFTER\")\n",
        "print(\"Mean =\", data_scaled.mean(axis=0))\n",
        "print(\"Std deviation =\", data_scaled.std(axis=0))"
      ],
      "metadata": {
        "id": "lLy9fsymj7q8",
        "colab": {
          "base_uri": "https://localhost:8080/"
        },
        "outputId": "8154fe58-fa8f-4fe8-b7b3-9933ebe9d102"
      },
      "execution_count": 8,
      "outputs": [
        {
          "output_type": "stream",
          "name": "stdout",
          "text": [
            "\n",
            "AFTER\n",
            "Mean = [1.11022302e-16 0.00000000e+00 2.77555756e-17]\n",
            "Std deviation = [1. 1. 1.]\n"
          ]
        }
      ]
    },
    {
      "cell_type": "code",
      "source": [
        "# Min max scaling (Menentukan nilai max min)\n",
        "data_scaler_minmax = preprocessing.MinMaxScaler(feature_range=(0, 1))\n",
        "data_scaled_minmax = data_scaler_minmax.fit_transform(input_data)\n",
        "print(\"\\nMin max scaled data:\\n\", data_scaled_minmax)"
      ],
      "metadata": {
        "id": "I-KkloVQknPv",
        "colab": {
          "base_uri": "https://localhost:8080/"
        },
        "outputId": "c4ecf60b-3a21-4d66-a2f3-0e90e57de389"
      },
      "execution_count": 10,
      "outputs": [
        {
          "output_type": "stream",
          "name": "stdout",
          "text": [
            "\n",
            "Min max scaled data:\n",
            " [[0.74117647 0.39548023 1.        ]\n",
            " [0.         1.         0.        ]\n",
            " [0.6        0.5819209  0.87234043]\n",
            " [1.         0.         0.17021277]]\n"
          ]
        }
      ]
    },
    {
      "cell_type": "code",
      "source": [
        "# Normalized data (Normalisasi data)\n",
        "data_normalized_l1 = preprocessing.normalize(input_data, norm='l1')\n",
        "data_normalized_l2 = preprocessing.normalize(input_data, norm='l2')\n",
        "print(\"\\nL1 normalized data:\\n\", data_normalized_l1)\n",
        "print(\"\\nL2 normalized data:\\n\", data_normalized_l2)"
      ],
      "metadata": {
        "id": "uW2XieMqlloe",
        "colab": {
          "base_uri": "https://localhost:8080/"
        },
        "outputId": "3648a115-54a9-47d3-bdb4-c134d40fa1e7"
      },
      "execution_count": 13,
      "outputs": [
        {
          "output_type": "stream",
          "name": "stdout",
          "text": [
            "\n",
            "L1 normalized data:\n",
            " [[ 0.45132743 -0.25663717  0.2920354 ]\n",
            " [-0.0794702   0.51655629 -0.40397351]\n",
            " [ 0.609375    0.0625      0.328125  ]\n",
            " [ 0.33640553 -0.4562212  -0.20737327]]\n",
            "\n",
            "L2 normalized data:\n",
            " [[ 0.75765788 -0.43082507  0.49024922]\n",
            " [-0.12030718  0.78199664 -0.61156148]\n",
            " [ 0.87690281  0.08993875  0.47217844]\n",
            " [ 0.55734935 -0.75585734 -0.34357152]]\n"
          ]
        }
      ]
    }
  ]
}