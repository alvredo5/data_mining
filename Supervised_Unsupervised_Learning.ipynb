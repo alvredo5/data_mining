{
  "nbformat": 4,
  "nbformat_minor": 0,
  "metadata": {
    "colab": {
      "provenance": [],
      "authorship_tag": "ABX9TyNdKa09moeqq9VOjIsyv6/O",
      "include_colab_link": true
    },
    "kernelspec": {
      "name": "python3",
      "display_name": "Python 3"
    },
    "language_info": {
      "name": "python"
    }
  },
  "cells": [
    {
      "cell_type": "markdown",
      "metadata": {
        "id": "view-in-github",
        "colab_type": "text"
      },
      "source": [
        "<a href=\"https://colab.research.google.com/github/alvredo5/data_mining/blob/main/Supervised_Unsupervised_Learning.ipynb\" target=\"_parent\"><img src=\"https://colab.research.google.com/assets/colab-badge.svg\" alt=\"Open In Colab\"/></a>"
      ]
    },
    {
      "cell_type": "markdown",
      "source": [
        "Supervised Learning\n",
        "\n",
        "Metode yang digunakan untuk Klasifikasi -> **K-Nearest Neighbors (KNN)**\n",
        "\n",
        "  Algoritma K-Nearest Neighbor (KNN) merupakan algoritma machine learning sederhana dan mudah diterapkan yang dapat digunakan untuk menyelesaikan masalah klasifikasi dan regresi. Algoritma ini termasuk dalam jenis supervised learning.\n",
        "\n",
        "  Algoritma K-Nearest Neighbor (KNN) adalah algoritma machine learning yang bersifat non-parametric dan lazy learning. Metode yang bersifat non-parametric memiliki makna bahwa metode tersebut tidak membuat asumsi apa pun tentang distribusi data yang mendasarinya.\n",
        "\n",
        "> Tambahkan blockquote\n",
        "\n"
      ],
      "metadata": {
        "id": "fJyA1c6Q6IVy"
      }
    },
    {
      "cell_type": "code",
      "source": [
        "#   contoh data \"Dataset Tingkat Kesehatan\"\n",
        "# No.\tUsia\tBerat Badan (kg)\tTinggi Badan (cm)\tTingkat Aktivitas\tKelas Kesehatan\n",
        "# 1\t  30\t      65\t                170\t              Sedang\t        Sehat\n",
        "# 2\t  45\t      80\t                165\t              Rendah\t      Tidak Sehat\n",
        "# 3\t  28\t      55\t                160\t              Tinggi\t        Sehat\n",
        "# 4\t  50\t      90\t                175\t              Sedang\t      Tidak Sehat\n",
        "# 5\t  35\t      70\t                168\t              Rendah\t      Tidak Sehat\n",
        "# 6\t  42\t      78\t                172\t              Tinggi\t        Sehat\n",
        "# 7\t  55\t      85\t                178\t              Sedang\t        Sehat\n",
        "# 8\t  32\t      60\t                163\t              Rendah\t        Sehat\n",
        "# 9\t  48\t      88\t                170\t              Tinggi\t      Tidak Sehat\n",
        "# 10\t40\t      75\t                167\t              Sedang\t        Sehat"
      ],
      "metadata": {
        "id": "G9_03axK6MHB"
      },
      "execution_count": null,
      "outputs": []
    },
    {
      "cell_type": "code",
      "source": [
        "# Mengimpor library yang diperlukan\n",
        "import pandas as pd\n",
        "from sklearn.model_selection import train_test_split\n",
        "from sklearn.neighbors import KNeighborsClassifier\n",
        "from sklearn.metrics import accuracy_score\n",
        "\n",
        "# Membuat DataFrame dari dataset\n",
        "data = {\n",
        "    'Usia':              [30, 45, 28, 50, 35, 42, 55, 32, 48, 40],\n",
        "    'Berat Badan':       [65, 80, 55, 90, 70, 78, 85, 60, 88, 75],\n",
        "    'Tinggi Badan':      [170, 165, 160, 175, 168, 172, 178, 163, 170, 167],\n",
        "    'Tingkat Aktivitas': ['Sedang', 'Rendah', 'Tinggi', 'Sedang', 'Rendah',\n",
        "                          'Tinggi', 'Sedang', 'Rendah', 'Tinggi', 'Sedang'],\n",
        "    'Kelas Kesehatan':   ['Sehat', 'Tidak Sehat', 'Sehat', 'Tidak Sehat', 'Tidak Sehat',\n",
        "                          'Sehat', 'Sehat', 'Sehat', 'Tidak Sehat', 'Sehat']\n",
        "}\n",
        "\n",
        "df = pd.DataFrame(data)\n",
        "\n",
        "# Memisahkan atribut dan label\n",
        "X = df[['Usia', 'Berat Badan', 'Tinggi Badan', 'Tingkat Aktivitas']]\n",
        "y = df['Kelas Kesehatan']\n",
        "\n",
        "# Mengubah variabel kategorikal menjadi variabel dummy\n",
        "X = pd.get_dummies(X)\n",
        "\n",
        "# Pembagian data menjadi data latih dan data uji\n",
        "X_train, X_test, y_train, y_test = train_test_split(X, y, test_size=0.2, random_state=42)\n",
        "\n",
        "# Membuat model KNN dengan k=3\n",
        "knn = KNeighborsClassifier(n_neighbors=3)\n",
        "knn.fit(X_train, y_train)\n",
        "\n",
        "# Melakukan prediksi dengan data uji\n",
        "y_pred = knn.predict(X_test)\n",
        "\n",
        "# Menghitung akurasi prediksi\n",
        "accuracy = accuracy_score(y_test, y_pred)\n",
        "print(f'Akurasi prediksi KNN: {accuracy:.2f}')\n"
      ],
      "metadata": {
        "colab": {
          "base_uri": "https://localhost:8080/"
        },
        "id": "N3THRAHQkOvX",
        "outputId": "94acb2c5-27fc-4650-a7a9-dc182c04eb8f"
      },
      "execution_count": null,
      "outputs": [
        {
          "output_type": "stream",
          "name": "stdout",
          "text": [
            "Akurasi prediksi KNN: 0.00\n"
          ]
        }
      ]
    },
    {
      "cell_type": "markdown",
      "source": [
        "Unsupervised Learning:\n",
        "Metode yang digunakan untuk Clustering -> **K-Means**\n",
        "\n",
        "K-Means merupakan salah satu algoritma dalam data mining yang bisa digunakan untuk melakukan pengelompokan/clustering suatu data. K-means merupakan salah satu algoritma yang bersifat unsupervised learning. K-Means memiliki fungsi untuk mengelompokkan data kedalam data cluster. Algoritma ini dapat menerima data tanpa ada label kategori.\n",
        "\n",
        "Caranya adalah dengan memilih beberapa titik data awal (k) secara acak, lalu memindah-mindahkannya hingga pengelompokan yang paling ideal ditemukan. K Means clustering sering digunakan dalam berbagai bidang, seperti segmentasi gambar, segmentasi pelanggan, riset pasar, dan pengelompokan dokumen."
      ],
      "metadata": {
        "id": "oj-yBOfL6RPa"
      }
    },
    {
      "cell_type": "code",
      "source": [
        "# Dataset Produk Konsumen untuk Clustering\n",
        "# No.\tHarga (ribu IDR)\tKualitas (skala 1-10)\tFitur Produk (skala 1-5)\tPopuler (skala 1-100)\n",
        "# 1\t       50\t                  7\t                        3\t                   60\n",
        "# 2\t       80\t                  9\t                        4\t                   80\n",
        "# 3\t       120\t                8\t                        5\t                   90\n",
        "# 4\t       70\t                  6\t                        3\t                   50\n",
        "# 5\t       100\t                7\t                        4\t                   70\n",
        "# 6\t       60\t                  8\t                        3 \t                 65\n",
        "# 7\t       90\t                  9\t                        5\t                   85\n",
        "# 8\t       110\t                7\t                        4\t                   75\n",
        "# 9\t       65\t                  6\t                        3\t                   55\n",
        "# 10\t     95\t                  8\t                        4\t                   72"
      ],
      "metadata": {
        "id": "34kNOGJn6W2Z"
      },
      "execution_count": null,
      "outputs": []
    },
    {
      "cell_type": "code",
      "source": [
        "# Import library yang dibutuhkan\n",
        "from sklearn.cluster import KMeans\n",
        "import pandas as pd\n",
        "import matplotlib.pyplot as plt\n",
        "\n",
        "# Buat dataset yang sama seperti yang telah dibuat sebelumnya\n",
        "data = {\n",
        "    'Harga':    [50, 80, 120, 70, 100, 60, 90, 110, 65, 95],\n",
        "    'Kualitas': [7, 9, 8, 6, 7, 8, 9, 7, 6, 8],\n",
        "    'Fitur':    [3, 4, 5, 3, 4, 3, 5, 4, 3, 4],\n",
        "    'Populer':  [60, 80, 90, 50, 70, 65, 85, 75, 55, 72]\n",
        "}\n",
        "\n",
        "df = pd.DataFrame(data)\n",
        "\n",
        "# Inisialisasi objek KMeans dengan 3 cluster\n",
        "kmeans = KMeans(n_clusters=3)\n",
        "\n",
        "# Lakukan fitting KMeans ke dataset\n",
        "kmeans.fit(df)\n",
        "\n",
        "# Tambahkan label cluster ke dalam dataset\n",
        "df['Cluster'] = kmeans.labels_\n",
        "\n",
        "# Tampilkan hasil clustering\n",
        "print(\"Hasil clustering:\")\n",
        "print(df[['Harga', 'Kualitas', 'Fitur', 'Populer', 'Cluster']])\n",
        "\n",
        "# Visualisasi hasil clustering (contoh dengan dua atribut)\n",
        "plt.scatter(df['Harga'], df['Kualitas'], c=df['Cluster'], cmap='viridis')\n",
        "plt.title('Hasil Clustering dengan K-Means')\n",
        "plt.xlabel('Harga')\n",
        "plt.ylabel('Kualitas')\n",
        "plt.show()"
      ],
      "metadata": {
        "colab": {
          "base_uri": "https://localhost:8080/",
          "height": 735
        },
        "id": "O6Olyl4OqtfJ",
        "outputId": "7e66ef51-62e1-46b2-a83f-847fd7d92819"
      },
      "execution_count": null,
      "outputs": [
        {
          "output_type": "stream",
          "name": "stderr",
          "text": [
            "/usr/local/lib/python3.10/dist-packages/sklearn/cluster/_kmeans.py:870: FutureWarning: The default value of `n_init` will change from 10 to 'auto' in 1.4. Set the value of `n_init` explicitly to suppress the warning\n",
            "  warnings.warn(\n"
          ]
        },
        {
          "output_type": "stream",
          "name": "stdout",
          "text": [
            "Hasil clustering:\n",
            "   Harga  Kualitas  Fitur  Populer  Cluster\n",
            "0     50         7      3       60        1\n",
            "1     80         9      4       80        2\n",
            "2    120         8      5       90        0\n",
            "3     70         6      3       50        1\n",
            "4    100         7      4       70        2\n",
            "5     60         8      3       65        1\n",
            "6     90         9      5       85        2\n",
            "7    110         7      4       75        0\n",
            "8     65         6      3       55        1\n",
            "9     95         8      4       72        2\n"
          ]
        },
        {
          "output_type": "display_data",
          "data": {
            "text/plain": [
              "<Figure size 640x480 with 1 Axes>"
            ],
            "image/png": "[encoded data removed]"
          },
          "metadata": {}
        }
      ]
    }
  ]
}